{
 "cells": [
  {
   "cell_type": "code",
   "execution_count": 1,
   "metadata": {},
   "outputs": [
    {
     "ename": "ZeroDivisionError",
     "evalue": "integer division or modulo by zero",
     "output_type": "error",
     "traceback": [
      "\u001b[1;31m---------------------------------------------------------------------------\u001b[0m",
      "\u001b[1;31mZeroDivisionError\u001b[0m                         Traceback (most recent call last)",
      "\u001b[1;32m<ipython-input-1-f5f7641c43e0>\u001b[0m in \u001b[0;36m<module>\u001b[1;34m()\u001b[0m\n\u001b[0;32m      6\u001b[0m     \u001b[1;32mpass\u001b[0m\u001b[1;33m\u001b[0m\u001b[0m\n\u001b[0;32m      7\u001b[0m \u001b[1;33m\u001b[0m\u001b[0m\n\u001b[1;32m----> 8\u001b[1;33m \u001b[1;32mprint\u001b[0m \u001b[1;36m5\u001b[0m\u001b[1;33m/\u001b[0m\u001b[1;36m0\u001b[0m\u001b[1;33m\u001b[0m\u001b[0m\n\u001b[0m",
      "\u001b[1;31mZeroDivisionError\u001b[0m: integer division or modulo by zero"
     ]
    }
   ],
   "source": [
    "try:\n",
    "    #go by bike\n",
    "    pass\n",
    "except:\n",
    "    #change to bus and go by bus\n",
    "    pass\n",
    "\n",
    "print 5/0\n"
   ]
  },
  {
   "cell_type": "code",
   "execution_count": 2,
   "metadata": {},
   "outputs": [
    {
     "name": "stdout",
     "output_type": "stream",
     "text": [
      "enter the numerator5\n",
      "enter the denominator10\n"
     ]
    },
    {
     "ename": "TypeError",
     "evalue": "unsupported operand type(s) for /: 'str' and 'str'",
     "output_type": "error",
     "traceback": [
      "\u001b[1;31m---------------------------------------------------------------------------\u001b[0m",
      "\u001b[1;31mTypeError\u001b[0m                                 Traceback (most recent call last)",
      "\u001b[1;32m<ipython-input-2-b50fe65112fb>\u001b[0m in \u001b[0;36m<module>\u001b[1;34m()\u001b[0m\n\u001b[0;32m      1\u001b[0m \u001b[0ma\u001b[0m \u001b[1;33m=\u001b[0m \u001b[0mraw_input\u001b[0m\u001b[1;33m(\u001b[0m\u001b[1;34m\"enter the numerator\"\u001b[0m\u001b[1;33m)\u001b[0m\u001b[1;33m\u001b[0m\u001b[0m\n\u001b[0;32m      2\u001b[0m \u001b[0mb\u001b[0m \u001b[1;33m=\u001b[0m \u001b[0mraw_input\u001b[0m\u001b[1;33m(\u001b[0m\u001b[1;34m\"enter the denominator\"\u001b[0m\u001b[1;33m)\u001b[0m\u001b[1;33m\u001b[0m\u001b[0m\n\u001b[1;32m----> 3\u001b[1;33m \u001b[1;32mprint\u001b[0m \u001b[0ma\u001b[0m\u001b[1;33m/\u001b[0m\u001b[0mb\u001b[0m\u001b[1;33m\u001b[0m\u001b[0m\n\u001b[0m",
      "\u001b[1;31mTypeError\u001b[0m: unsupported operand type(s) for /: 'str' and 'str'"
     ]
    }
   ],
   "source": [
    "a = raw_input(\"enter the numerator\")\n",
    "b = raw_input(\"enter the denominator\")\n",
    "print a/b"
   ]
  },
  {
   "cell_type": "code",
   "execution_count": 4,
   "metadata": {},
   "outputs": [
    {
     "name": "stdout",
     "output_type": "stream",
     "text": [
      "enter the numerator5\n",
      "enter the denominator0\n",
      "5\n",
      "0\n",
      "you have entered denominator as zero\n"
     ]
    }
   ],
   "source": [
    "try:\n",
    "    a = int(raw_input(\"enter the numerator\"))\n",
    "    b = int(raw_input(\"enter the denominator\"))\n",
    "    print a\n",
    "    print b\n",
    "    print a/b\n",
    "except:\n",
    "    print \"you have entered denominator as zero\"\n",
    "    \n"
   ]
  },
  {
   "cell_type": "code",
   "execution_count": 5,
   "metadata": {},
   "outputs": [
    {
     "name": "stdout",
     "output_type": "stream",
     "text": [
      "enter the numerator5\n",
      "enter the denominator0\n",
      "you have entered denominator as zero\n"
     ]
    }
   ],
   "source": [
    "try:\n",
    "    a = int(raw_input(\"enter the numerator\"))\n",
    "    b = int(raw_input(\"enter the denominator\"))\n",
    "    print a/b\n",
    "    print a\n",
    "    print b\n",
    "except:\n",
    "    print \"you have entered denominator as zero\"\n",
    "    \n"
   ]
  },
  {
   "cell_type": "code",
   "execution_count": 6,
   "metadata": {},
   "outputs": [
    {
     "name": "stdout",
     "output_type": "stream",
     "text": [
      "enter the numerator10\n",
      "enter the denominator20.0\n",
      "you have entered denominator as zero\n"
     ]
    }
   ],
   "source": [
    "try:\n",
    "    a = int(raw_input(\"enter the numerator\"))\n",
    "    b = int(raw_input(\"enter the denominator\"))\n",
    "    print a/b\n",
    "    print a\n",
    "    print b\n",
    "except:\n",
    "    print \"you have entered denominator as zero\"\n",
    "    \n"
   ]
  },
  {
   "cell_type": "code",
   "execution_count": 7,
   "metadata": {},
   "outputs": [
    {
     "name": "stdout",
     "output_type": "stream",
     "text": [
      "enter the numerator10\n",
      "enter the denominator20\n",
      "0.5\n",
      "10.0\n",
      "20.0\n"
     ]
    }
   ],
   "source": [
    "try:\n",
    "    a = float(raw_input(\"enter the numerator\"))\n",
    "    b = float(raw_input(\"enter the denominator\"))\n",
    "    print a/b\n",
    "    print a\n",
    "    print b\n",
    "except:\n",
    "    print \"you have entered denominator as zero\"\n",
    "    \n"
   ]
  },
  {
   "cell_type": "code",
   "execution_count": 8,
   "metadata": {},
   "outputs": [
    {
     "name": "stdout",
     "output_type": "stream",
     "text": [
      "enter the numerator10\n",
      "enter the denominatornag\n",
      "you have entered denominator as zero\n"
     ]
    }
   ],
   "source": [
    "try:\n",
    "    a = float(raw_input(\"enter the numerator\"))\n",
    "    b = float(raw_input(\"enter the denominator\"))\n",
    "    print a/b\n",
    "    print a\n",
    "    print b\n",
    "except :\n",
    "    print \"you have entered denominator as zero\"\n",
    "    \n"
   ]
  },
  {
   "cell_type": "code",
   "execution_count": 10,
   "metadata": {},
   "outputs": [
    {
     "name": "stdout",
     "output_type": "stream",
     "text": [
      "enter the numerator10\n",
      "enter the denominatornag\n",
      "denom is not a number\n"
     ]
    }
   ],
   "source": [
    "try:\n",
    "    a = float(raw_input(\"enter the numerator\"))\n",
    "    b = float(raw_input(\"enter the denominator\"))\n",
    "    print a/b\n",
    "    print a\n",
    "    print b\n",
    "except ValueError as e:\n",
    "    print \"denom is not a number\"\n",
    "except ZeroDivisionError as e:\n",
    "    print \"you have entered denominator as zero\"\n",
    "    \n"
   ]
  },
  {
   "cell_type": "code",
   "execution_count": 11,
   "metadata": {},
   "outputs": [
    {
     "name": "stdout",
     "output_type": "stream",
     "text": [
      "enter the numerator10\n",
      "enter the denominator5\n",
      "2.0\n",
      "10.0\n",
      "5.0\n"
     ]
    }
   ],
   "source": [
    "try:\n",
    "    a = float(raw_input(\"enter the numerator\"))\n",
    "    b = float(raw_input(\"enter the denominator\"))\n",
    "    print a/b\n",
    "    print a\n",
    "    print b\n",
    "except ValueError as e:\n",
    "    print \"you are entering the charaters please enter number\"\n",
    "    a = float(raw_input(\"enter the numerator\"))\n",
    "    b = float(raw_input(\"enter the denominator\"))\n",
    "    print a/b\n",
    "    print a\n",
    "    print b\n",
    "except ZeroDivisionError as e:\n",
    "    print \"please enter denom other than zero\"\n",
    "    b = float(raw_input(\"enter the denominator\"))\n",
    "    print a/b\n",
    "    print a\n",
    "    print b\n",
    "    \n"
   ]
  },
  {
   "cell_type": "code",
   "execution_count": 12,
   "metadata": {},
   "outputs": [
    {
     "name": "stdout",
     "output_type": "stream",
     "text": [
      "enter the numerator10\n",
      "enter the denominatorpython\n",
      "you are entering the charaters please enter number\n",
      "enter the numerator10\n",
      "enter the denominator5\n",
      "2.0\n",
      "10.0\n",
      "5.0\n"
     ]
    }
   ],
   "source": [
    "try:\n",
    "    a = float(raw_input(\"enter the numerator\"))\n",
    "    b = float(raw_input(\"enter the denominator\"))\n",
    "    print a/b\n",
    "    print a\n",
    "    print b\n",
    "except ValueError as e:\n",
    "    print \"you are entering the charaters please enter number\"\n",
    "    a = float(raw_input(\"enter the numerator\"))\n",
    "    b = float(raw_input(\"enter the denominator\"))\n",
    "    print a/b\n",
    "    print a\n",
    "    print b\n",
    "except ZeroDivisionError as e:\n",
    "    print \"please enter denom other than zero\"\n",
    "    b = float(raw_input(\"enter the denominator\"))\n",
    "    print a/b\n",
    "    print a\n",
    "    print b\n",
    "    \n"
   ]
  },
  {
   "cell_type": "code",
   "execution_count": 13,
   "metadata": {},
   "outputs": [
    {
     "name": "stdout",
     "output_type": "stream",
     "text": [
      "enter the numerator10\n",
      "enter the denominator0\n",
      "please enter denom other than zero\n",
      "enter the denominator5\n",
      "2.0\n",
      "10.0\n",
      "5.0\n"
     ]
    }
   ],
   "source": [
    "try:\n",
    "    a = float(raw_input(\"enter the numerator\"))\n",
    "    b = float(raw_input(\"enter the denominator\"))\n",
    "    print a/b\n",
    "    print a\n",
    "    print b\n",
    "except ValueError as e:\n",
    "    print \"you are entering the charaters please enter number\"\n",
    "    a = float(raw_input(\"enter the numerator\"))\n",
    "    b = float(raw_input(\"enter the denominator\"))\n",
    "    print a/b\n",
    "    print a\n",
    "    print b\n",
    "except ZeroDivisionError as e:\n",
    "    print \"please enter denom other than zero\"\n",
    "    b = float(raw_input(\"enter the denominator\"))\n",
    "    print a/b\n",
    "    print a\n",
    "    print b\n",
    "    \n"
   ]
  },
  {
   "cell_type": "code",
   "execution_count": 14,
   "metadata": {},
   "outputs": [
    {
     "name": "stdout",
     "output_type": "stream",
     "text": [
      "enter the numerator10\n",
      "enter the denominator0\n",
      "float division by zero\n",
      "please enter denom other than zero\n",
      "enter the denominator5\n",
      "2.0\n",
      "10.0\n",
      "5.0\n"
     ]
    }
   ],
   "source": [
    "try:\n",
    "    a = float(raw_input(\"enter the numerator\"))\n",
    "    b = float(raw_input(\"enter the denominator\"))\n",
    "    print a/b\n",
    "    print a\n",
    "    print b\n",
    "except ValueError as e:\n",
    "    print \"you are entering the charaters please enter number\"\n",
    "    a = float(raw_input(\"enter the numerator\"))\n",
    "    b = float(raw_input(\"enter the denominator\"))\n",
    "    print a/b\n",
    "    print a\n",
    "    print b\n",
    "except ZeroDivisionError as e:\n",
    "    print e\n",
    "    print \"please enter denom other than zero\"\n",
    "    b = float(raw_input(\"enter the denominator\"))\n",
    "    print a/b\n",
    "    print a\n",
    "    print b\n",
    "    \n"
   ]
  },
  {
   "cell_type": "code",
   "execution_count": 16,
   "metadata": {},
   "outputs": [
    {
     "name": "stdout",
     "output_type": "stream",
     "text": [
      "[Errno 2] No such file or directory: 'aa.txt' error occured, so using default denom as 5\n",
      "2\n"
     ]
    }
   ],
   "source": [
    "try:\n",
    "    a= 10\n",
    "    f = open('aa.txt', 'r')\n",
    "    b = int(f.read())\n",
    "    print a/b\n",
    "except IOError as e:\n",
    "    print \"%s error occured, so using default denom as 5\" %e\n",
    "    print a/5    \n",
    "except ZeroDivisionError as e:\n",
    "    print \"as denom is zero, ignoring the division\""
   ]
  },
  {
   "cell_type": "code",
   "execution_count": 17,
   "metadata": {},
   "outputs": [
    {
     "name": "stdout",
     "output_type": "stream",
     "text": [
      "as denom is zero, ignoring the division\n"
     ]
    }
   ],
   "source": [
    "try:\n",
    "    a= 10\n",
    "    f = open('aa.txt', 'r')\n",
    "    b = int(f.read())\n",
    "    print a/b\n",
    "except Exception as e:\n",
    "    print \"as denom is zero, ignoring the division\"\n",
    "except IOError as e:\n",
    "    print \"%s error occured, so using default denom as 5\" %e\n",
    "    print a/5    "
   ]
  },
  {
   "cell_type": "code",
   "execution_count": 18,
   "metadata": {},
   "outputs": [
    {
     "name": "stdout",
     "output_type": "stream",
     "text": [
      "[Errno 2] No such file or directory: 'aa.txt' error occured, so using default denom as 5\n",
      "2\n"
     ]
    }
   ],
   "source": [
    "try:\n",
    "    a= 10\n",
    "    f = open('aa.txt', 'r')\n",
    "    b = int(f.read())\n",
    "    print a/b\n",
    "except IOError as e:\n",
    "    print \"%s error occured, so using default denom as 5\" %e\n",
    "    print a/5 \n",
    "except Exception as e:\n",
    "    print \"as denom is zero, ignoring the division\"\n",
    "   "
   ]
  },
  {
   "cell_type": "code",
   "execution_count": 19,
   "metadata": {},
   "outputs": [
    {
     "name": "stdout",
     "output_type": "stream",
     "text": [
      "as denom is zero, ignoring the division\n"
     ]
    }
   ],
   "source": [
    "try:\n",
    "    a= 10\n",
    "    print 100/0\n",
    "    f = open('aa.txt', 'r')\n",
    "    b = int(f.read())\n",
    "    print a/b\n",
    "except IOError as e:\n",
    "    print \"%s error occured, so using default denom as 5\" %e\n",
    "    print a/5 \n",
    "except Exception as e:\n",
    "    print \"as denom is zero, ignoring the division\"\n",
    "   "
   ]
  },
  {
   "cell_type": "code",
   "execution_count": 20,
   "metadata": {},
   "outputs": [
    {
     "name": "stdout",
     "output_type": "stream",
     "text": [
      "enter the numerator10\n",
      "enter the denominator5\n",
      "2.0\n",
      "10.0\n",
      "5.0\n"
     ]
    }
   ],
   "source": [
    "try:\n",
    "    a = float(raw_input(\"enter the numerator\"))\n",
    "    b = float(raw_input(\"enter the denominator\"))\n",
    "    print a/b\n",
    "except ValueError as e:\n",
    "    print \"you are entering the charaters please enter number\"\n",
    "    a = float(raw_input(\"enter the numerator\"))\n",
    "    b = float(raw_input(\"enter the denominator\"))\n",
    "    print a/b\n",
    "except ZeroDivisionError as e:\n",
    "    print e\n",
    "    print \"please enter denom other than zero\"\n",
    "    b = float(raw_input(\"enter the denominator\"))\n",
    "    print a/b\n",
    "finally:\n",
    "    print a\n",
    "    print b\n"
   ]
  },
  {
   "cell_type": "code",
   "execution_count": 21,
   "metadata": {},
   "outputs": [
    {
     "name": "stdout",
     "output_type": "stream",
     "text": [
      "10\n"
     ]
    }
   ],
   "source": [
    "def myfun():\n",
    "    try:\n",
    "        return 10\n",
    "    except:\n",
    "        return 20\n",
    "    return 30\n",
    "print myfun()"
   ]
  },
  {
   "cell_type": "code",
   "execution_count": 22,
   "metadata": {},
   "outputs": [
    {
     "name": "stdout",
     "output_type": "stream",
     "text": [
      "20\n"
     ]
    }
   ],
   "source": [
    "def myfun():\n",
    "    try:\n",
    "        1/0\n",
    "        return 10\n",
    "    except:\n",
    "        return 20\n",
    "    return 30\n",
    "print myfun()"
   ]
  },
  {
   "cell_type": "code",
   "execution_count": 23,
   "metadata": {},
   "outputs": [
    {
     "name": "stdout",
     "output_type": "stream",
     "text": [
      "30\n"
     ]
    }
   ],
   "source": [
    "def myfun():\n",
    "    try:\n",
    "        1/0\n",
    "        return 10\n",
    "    except:\n",
    "        return 20\n",
    "    finally:\n",
    "        return 30\n",
    "print myfun()"
   ]
  },
  {
   "cell_type": "code",
   "execution_count": 24,
   "metadata": {},
   "outputs": [
    {
     "name": "stdout",
     "output_type": "stream",
     "text": [
      "30\n"
     ]
    }
   ],
   "source": [
    "def myfun():\n",
    "    try:\n",
    "        return 10\n",
    "    except:\n",
    "        return 20\n",
    "    finally:\n",
    "        return 30\n",
    "print myfun()"
   ]
  },
  {
   "cell_type": "code",
   "execution_count": 27,
   "metadata": {},
   "outputs": [
    {
     "ename": "IndentationError",
     "evalue": "unexpected unindent (<ipython-input-27-f1c0d24fcb71>, line 5)",
     "output_type": "error",
     "traceback": [
      "\u001b[1;36m  File \u001b[1;32m\"<ipython-input-27-f1c0d24fcb71>\"\u001b[1;36m, line \u001b[1;32m5\u001b[0m\n\u001b[1;33m    print myfun()\u001b[0m\n\u001b[1;37m                 ^\u001b[0m\n\u001b[1;31mIndentationError\u001b[0m\u001b[1;31m:\u001b[0m unexpected unindent\n"
     ]
    }
   ],
   "source": [
    "def myfun():\n",
    "    try:\n",
    "        return 10\n",
    "\n",
    "print myfun()"
   ]
  },
  {
   "cell_type": "code",
   "execution_count": 28,
   "metadata": {},
   "outputs": [
    {
     "name": "stdout",
     "output_type": "stream",
     "text": [
      "30\n"
     ]
    }
   ],
   "source": [
    "def myfun():\n",
    "    try:\n",
    "        return 10\n",
    "    finally:\n",
    "        return 30\n",
    "\n",
    "print myfun()"
   ]
  },
  {
   "cell_type": "code",
   "execution_count": 29,
   "metadata": {},
   "outputs": [
    {
     "name": "stdout",
     "output_type": "stream",
     "text": [
      "in try\n",
      "no errors\n"
     ]
    }
   ],
   "source": [
    "def myfun():\n",
    "    try:\n",
    "        print \"in try\"\n",
    "    except:\n",
    "        print \"in except\"\n",
    "    else:\n",
    "        print \"no errors\"\n",
    "myfun()"
   ]
  },
  {
   "cell_type": "code",
   "execution_count": 30,
   "metadata": {},
   "outputs": [
    {
     "name": "stdout",
     "output_type": "stream",
     "text": [
      "in try\n",
      "in except\n"
     ]
    }
   ],
   "source": [
    "def myfun():\n",
    "    try:\n",
    "        print \"in try\"\n",
    "        1/0\n",
    "    except:\n",
    "        print \"in except\"\n",
    "    else:\n",
    "        print \"no errors\"\n",
    "myfun()"
   ]
  },
  {
   "cell_type": "code",
   "execution_count": 33,
   "metadata": {},
   "outputs": [
    {
     "name": "stdout",
     "output_type": "stream",
     "text": [
      "don't consider 15\n"
     ]
    }
   ],
   "source": [
    "class MyException(Exception):\n",
    "    def __init__(self, msg):\n",
    "        super(MyException, self).__init__(msg)\n",
    "a = 15\n",
    "try:\n",
    "    if a == 15:\n",
    "        raise MyException(\"don't consider 15\")\n",
    "except MyException as e:\n",
    "    print e"
   ]
  },
  {
   "cell_type": "code",
   "execution_count": 35,
   "metadata": {},
   "outputs": [
    {
     "name": "stdout",
     "output_type": "stream",
     "text": [
      "don't consider 15\n"
     ]
    }
   ],
   "source": [
    "class MyException(Exception):\n",
    "    pass\n",
    "class FirstError(MyException):\n",
    "    def __init__(self, msg):\n",
    "        super(FirstError, self).__init__(msg)\n",
    "a = 15\n",
    "try:\n",
    "    if a == 15:\n",
    "        raise FirstError(\"don't consider 15\")\n",
    "except Exception as e:\n",
    "    print e"
   ]
  },
  {
   "cell_type": "code",
   "execution_count": null,
   "metadata": {
    "collapsed": true
   },
   "outputs": [],
   "source": []
  }
 ],
 "metadata": {
  "kernelspec": {
   "display_name": "Python 2",
   "language": "python",
   "name": "python2"
  },
  "language_info": {
   "codemirror_mode": {
    "name": "ipython",
    "version": 2
   },
   "file_extension": ".py",
   "mimetype": "text/x-python",
   "name": "python",
   "nbconvert_exporter": "python",
   "pygments_lexer": "ipython2",
   "version": "2.7.13"
  }
 },
 "nbformat": 4,
 "nbformat_minor": 2
}
