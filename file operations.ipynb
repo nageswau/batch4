{
 "cells": [
  {
   "cell_type": "code",
   "execution_count": 5,
   "metadata": {
    "collapsed": true
   },
   "outputs": [],
   "source": [
    "f = open(\"..\\myfile.txt\", 'w')"
   ]
  },
  {
   "cell_type": "code",
   "execution_count": 6,
   "metadata": {},
   "outputs": [
    {
     "name": "stdout",
     "output_type": "stream",
     "text": [
      "<open file '..\\\\myfile.txt', mode 'w' at 0x03848968>\n"
     ]
    }
   ],
   "source": [
    "print f"
   ]
  },
  {
   "cell_type": "code",
   "execution_count": 7,
   "metadata": {
    "collapsed": true
   },
   "outputs": [],
   "source": [
    "f.write(\"this is my first file in different location\")"
   ]
  },
  {
   "cell_type": "code",
   "execution_count": 8,
   "metadata": {
    "collapsed": true
   },
   "outputs": [],
   "source": [
    "f.close()"
   ]
  },
  {
   "cell_type": "code",
   "execution_count": 9,
   "metadata": {
    "collapsed": true
   },
   "outputs": [],
   "source": [
    "import os"
   ]
  },
  {
   "cell_type": "code",
   "execution_count": 10,
   "metadata": {},
   "outputs": [
    {
     "name": "stdout",
     "output_type": "stream",
     "text": [
      "['F_OK', 'O_APPEND', 'O_BINARY', 'O_CREAT', 'O_EXCL', 'O_NOINHERIT', 'O_RANDOM', 'O_RDONLY', 'O_RDWR', 'O_SEQUENTIAL', 'O_SHORT_LIVED', 'O_TEMPORARY', 'O_TEXT', 'O_TRUNC', 'O_WRONLY', 'P_DETACH', 'P_NOWAIT', 'P_NOWAITO', 'P_OVERLAY', 'P_WAIT', 'R_OK', 'SEEK_CUR', 'SEEK_END', 'SEEK_SET', 'TMP_MAX', 'UserDict', 'W_OK', 'X_OK', '_Environ', '__all__', '__builtins__', '__doc__', '__file__', '__name__', '__package__', '_copy_reg', '_execvpe', '_exists', '_exit', '_get_exports_list', '_make_stat_result', '_make_statvfs_result', '_pickle_stat_result', '_pickle_statvfs_result', 'abort', 'access', 'altsep', 'chdir', 'chmod', 'close', 'closerange', 'curdir', 'defpath', 'devnull', 'dup', 'dup2', 'environ', 'errno', 'error', 'execl', 'execle', 'execlp', 'execlpe', 'execv', 'execve', 'execvp', 'execvpe', 'extsep', 'fdopen', 'fstat', 'fsync', 'getcwd', 'getcwdu', 'getenv', 'getpid', 'isatty', 'kill', 'linesep', 'listdir', 'lseek', 'lstat', 'makedirs', 'mkdir', 'name', 'open', 'pardir', 'path', 'pathsep', 'pipe', 'popen', 'popen2', 'popen3', 'popen4', 'putenv', 'read', 'remove', 'removedirs', 'rename', 'renames', 'rmdir', 'sep', 'spawnl', 'spawnle', 'spawnv', 'spawnve', 'startfile', 'stat', 'stat_float_times', 'stat_result', 'statvfs_result', 'strerror', 'sys', 'system', 'tempnam', 'times', 'tmpfile', 'tmpnam', 'umask', 'unlink', 'unsetenv', 'urandom', 'utime', 'waitpid', 'walk', 'write']\n"
     ]
    }
   ],
   "source": [
    "print dir(os)"
   ]
  },
  {
   "cell_type": "code",
   "execution_count": 11,
   "metadata": {},
   "outputs": [
    {
     "name": "stdout",
     "output_type": "stream",
     "text": [
      "chmod(path, mode)\n",
      "\n",
      "Change the access permissions of a file.\n"
     ]
    }
   ],
   "source": [
    "#777 --->  111 111 111\n",
    "#101  -- > 001  000  001   \n",
    "print os.chmod.__doc__"
   ]
  },
  {
   "cell_type": "code",
   "execution_count": 12,
   "metadata": {},
   "outputs": [
    {
     "data": {
      "text/plain": [
       "{'TMP': 'C:\\\\Users\\\\nexii\\\\AppData\\\\Local\\\\Temp', 'COMPUTERNAME': 'NEXII-PC', 'LIB': 'C:\\\\OpenSSL-Win64\\\\lib\\\\', 'USERDOMAIN': 'nexii-PC', 'PSMODULEPATH': 'C:\\\\Program Files\\\\WindowsPowerShell\\\\Modules;C:\\\\Windows\\\\system32\\\\WindowsPowerShell\\\\v1.0\\\\Modules', 'COMMONPROGRAMFILES': 'C:\\\\Program Files (x86)\\\\Common Files', 'PROCESSOR_IDENTIFIER': 'Intel64 Family 6 Model 42 Stepping 7, GenuineIntel', 'PROGRAMFILES': 'C:\\\\Program Files (x86)', 'PROCESSOR_REVISION': '2a07', 'SYSTEMROOT': 'C:\\\\Windows', 'PATH': 'C:\\\\ProgramData\\\\Oracle\\\\Java\\\\javapath;C:\\\\Windows\\\\system32;C:\\\\Windows;C:\\\\Windows\\\\System32\\\\Wbem;C:\\\\Windows\\\\System32\\\\WindowsPowerShell\\\\v1.0\\\\;C:\\\\Program Files\\\\ThinkPad\\\\Bluetooth Software\\\\;C:\\\\Program Files\\\\ThinkPad\\\\Bluetooth Software\\\\syswow64\\\\;C:\\\\Python27\\\\Scripts\\\\;C:\\\\Program Files\\\\PuTTY\\\\;C:\\\\Program Files (x86)\\\\Skype\\\\Phone\\\\;C:\\\\Windows\\\\System32\\\\WindowsPowerShell\\\\v1.0\\\\;C:\\\\Python27\\\\;;C:\\\\Program Files\\\\Microsoft VS Code\\\\bin', 'CLICOLOR': '1', 'PROGRAMFILES(X86)': 'C:\\\\Program Files (x86)', 'TERM': 'xterm-color', 'TEMP': 'C:\\\\Users\\\\nexii\\\\AppData\\\\Local\\\\Temp', 'COMMONPROGRAMFILES(X86)': 'C:\\\\Program Files (x86)\\\\Common Files', 'PROCESSOR_ARCHITECTURE': 'x86', 'ALLUSERSPROFILE': 'C:\\\\ProgramData', 'LOCALAPPDATA': 'C:\\\\Users\\\\nexii\\\\AppData\\\\Local', 'HOMEPATH': '\\\\Users\\\\nexii', 'JPY_INTERRUPT_EVENT': '724', 'PROGRAMW6432': 'C:\\\\Program Files', 'USERNAME': 'nexii', 'LOGONSERVER': '\\\\\\\\NEXII-PC', 'PROMPT': '$P$G', 'COMSPEC': 'C:\\\\Windows\\\\system32\\\\cmd.exe', 'JPY_PARENT_PID': '508', 'PROGRAMDATA': 'C:\\\\ProgramData', 'MPLBACKEND': 'module://ipykernel.pylab.backend_inline', 'GIT_PAGER': 'cat', 'SESSIONNAME': 'Console', 'PATHEXT': '.COM;.EXE;.BAT;.CMD;.VBS;.VBE;.JS;.JSE;.WSF;.WSH;.MSC', 'INCLUDE': 'C:\\\\OpenSSL-Win64\\\\include\\\\', 'FP_NO_HOST_CHECK': 'NO', 'WINDIR': 'C:\\\\Windows', 'OPENSSL_CONF': 'C:\\\\OpenSSL-Win64\\\\bin\\\\openssl.cfg', 'MOZ_PLUGIN_PATH': 'C:\\\\Program Files (x86)\\\\Foxit Software\\\\Foxit Reader\\\\plugins\\\\', 'HOMEDRIVE': 'C:', 'PAGER': 'cat', 'SYSTEMDRIVE': 'C:', 'NUMBER_OF_PROCESSORS': '4', 'APPDATA': 'C:\\\\Users\\\\nexii\\\\AppData\\\\Roaming', 'PROCESSOR_LEVEL': '6', 'PROCESSOR_ARCHITEW6432': 'AMD64', 'COMMONPROGRAMW6432': 'C:\\\\Program Files\\\\Common Files', 'OS': 'Windows_NT', 'PUBLIC': 'C:\\\\Users\\\\Public', 'IPY_INTERRUPT_EVENT': '724', 'USERPROFILE': 'C:\\\\Users\\\\nexii'}"
      ]
     },
     "execution_count": 12,
     "metadata": {},
     "output_type": "execute_result"
    }
   ],
   "source": [
    "os.environ"
   ]
  },
  {
   "cell_type": "code",
   "execution_count": 19,
   "metadata": {},
   "outputs": [
    {
     "name": "stdout",
     "output_type": "stream",
     "text": [
      "['.git', '.ipynb_checkpoints', '.metadata', 'a1 pseudo.docx', 'arth.py', 'arth.pyc', 'assign_int.py', 'CP5639 problm-1.docx', 'dictionary.ipynb', 'file operations.ipynb', 'float.py', 'flow control.txt', 'functions.ipynb', 'hello.py', 'ifcon.py', 'indentifiers', 'input.ipynb', 'int.py', 'LICENSE', 'list.ipynb', 'list2.ipynb', 'log_int.py', 'modes.txt', 'module_test.py', 'myfile.txt', 'mypack.py', 'operaters.txt', 'packages', 'print.py', 'rel_int.py', 'set.ipynb', 'strings.ipynb', 'tuple.ipynb', 'Untitled.ipynb']\n"
     ]
    }
   ],
   "source": [
    "print os.listdir(\".\")"
   ]
  },
  {
   "cell_type": "code",
   "execution_count": 20,
   "metadata": {
    "collapsed": true
   },
   "outputs": [],
   "source": [
    "x =  os.walk(\".\")"
   ]
  },
  {
   "cell_type": "code",
   "execution_count": 21,
   "metadata": {},
   "outputs": [
    {
     "name": "stdout",
     "output_type": "stream",
     "text": [
      "<generator object walk at 0x038E26E8>\n"
     ]
    }
   ],
   "source": [
    "print x"
   ]
  },
  {
   "cell_type": "code",
   "execution_count": 22,
   "metadata": {},
   "outputs": [
    {
     "name": "stdout",
     "output_type": "stream",
     "text": [
      "('.', ['.git', '.ipynb_checkpoints', '.metadata', 'packages'], ['a1 pseudo.docx', 'arth.py', 'arth.pyc', 'assign_int.py', 'CP5639 problm-1.docx', 'dictionary.ipynb', 'file operations.ipynb', 'float.py', 'flow control.txt', 'functions.ipynb', 'hello.py', 'ifcon.py', 'indentifiers', 'input.ipynb', 'int.py', 'LICENSE', 'list.ipynb', 'list2.ipynb', 'log_int.py', 'modes.txt', 'module_test.py', 'myfile.txt', 'mypack.py', 'operaters.txt', 'print.py', 'rel_int.py', 'set.ipynb', 'strings.ipynb', 'tuple.ipynb', 'Untitled.ipynb'])\n"
     ]
    }
   ],
   "source": [
    "print x.next()"
   ]
  },
  {
   "cell_type": "code",
   "execution_count": 23,
   "metadata": {},
   "outputs": [
    {
     "name": "stdout",
     "output_type": "stream",
     "text": [
      "('.\\\\.git', ['hooks', 'info', 'logs', 'objects', 'refs'], ['COMMIT_EDITMSG', 'config', 'description', 'HEAD', 'index', 'packed-refs'])\n"
     ]
    }
   ],
   "source": [
    "print x.next()"
   ]
  },
  {
   "cell_type": "code",
   "execution_count": null,
   "metadata": {
    "collapsed": true
   },
   "outputs": [],
   "source": []
  }
 ],
 "metadata": {
  "kernelspec": {
   "display_name": "Python 2",
   "language": "python",
   "name": "python2"
  },
  "language_info": {
   "codemirror_mode": {
    "name": "ipython",
    "version": 2
   },
   "file_extension": ".py",
   "mimetype": "text/x-python",
   "name": "python",
   "nbconvert_exporter": "python",
   "pygments_lexer": "ipython2",
   "version": "2.7.13"
  }
 },
 "nbformat": 4,
 "nbformat_minor": 2
}
