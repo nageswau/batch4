{
 "cells": [
  {
   "cell_type": "code",
   "execution_count": 1,
   "metadata": {
    "collapsed": true
   },
   "outputs": [],
   "source": [
    "# def <functionName>(<arguments>):\n",
    "#     statement1\n",
    "#     statement2\n",
    "#      '\n",
    "#      '\n",
    "#     statementn\n",
    "# normal script statements\n"
   ]
  },
  {
   "cell_type": "code",
   "execution_count": 2,
   "metadata": {},
   "outputs": [
    {
     "name": "stdout",
     "output_type": "stream",
     "text": [
      "<function myfun at 0x025740F0>\n"
     ]
    }
   ],
   "source": [
    "a = 10\n",
    "def myfun():\n",
    "    print \"I am in function\"\n",
    "    print a\n",
    "print myfun\n",
    "    \n"
   ]
  },
  {
   "cell_type": "code",
   "execution_count": 3,
   "metadata": {},
   "outputs": [
    {
     "name": "stdout",
     "output_type": "stream",
     "text": [
      "I am in function\n",
      "10\n"
     ]
    }
   ],
   "source": [
    "myfun()"
   ]
  },
  {
   "cell_type": "code",
   "execution_count": 4,
   "metadata": {},
   "outputs": [
    {
     "name": "stdout",
     "output_type": "stream",
     "text": [
      "<function myfun at 0x025740F0>\n"
     ]
    }
   ],
   "source": [
    "c = myfun\n",
    "print c"
   ]
  },
  {
   "cell_type": "code",
   "execution_count": 5,
   "metadata": {},
   "outputs": [
    {
     "name": "stdout",
     "output_type": "stream",
     "text": [
      "I am in function\n",
      "10\n",
      "None\n"
     ]
    }
   ],
   "source": [
    "print c()"
   ]
  },
  {
   "cell_type": "code",
   "execution_count": 7,
   "metadata": {},
   "outputs": [
    {
     "name": "stdout",
     "output_type": "stream",
     "text": [
      "myfun\n",
      "in fun1\n",
      "executed myfun1\n"
     ]
    }
   ],
   "source": [
    "def myfun1():\n",
    "    print \"in fun1\"\n",
    "def myfun():\n",
    "    print \"myfun\"\n",
    "    myfun1()\n",
    "    print \"executed myfun1\"\n",
    "\n",
    "myfun()"
   ]
  },
  {
   "cell_type": "code",
   "execution_count": 8,
   "metadata": {},
   "outputs": [
    {
     "name": "stdout",
     "output_type": "stream",
     "text": [
      "[2, 3, 'python']\n",
      "[2, 3, 'python', 'batch4']\n"
     ]
    }
   ],
   "source": [
    "a = [2,3,\"python\"]\n",
    "def myfun(b):\n",
    "    b.append(\"batch4\")\n",
    "print a\n",
    "myfun(a)\n",
    "print a"
   ]
  },
  {
   "cell_type": "code",
   "execution_count": 9,
   "metadata": {},
   "outputs": [
    {
     "name": "stdout",
     "output_type": "stream",
     "text": [
      "[2, 3, 'python']\n",
      "[2, 3, 'python', 'batch4']\n"
     ]
    }
   ],
   "source": [
    "a = [2,3,\"python\"]\n",
    "def myfun(b):\n",
    "    b.append(\"batch4\")\n",
    "print a\n",
    "myfun(a)\n",
    "print a"
   ]
  },
  {
   "cell_type": "code",
   "execution_count": 10,
   "metadata": {},
   "outputs": [
    {
     "name": "stdout",
     "output_type": "stream",
     "text": [
      "python\n"
     ]
    }
   ],
   "source": [
    "def myfun(b):\n",
    "    print b\n",
    "\n",
    "myfun(\"python\")"
   ]
  },
  {
   "cell_type": "code",
   "execution_count": 11,
   "metadata": {},
   "outputs": [
    {
     "name": "stdout",
     "output_type": "stream",
     "text": [
      "[2, 3, 'python']\n",
      "[2, 3, 'python']\n"
     ]
    }
   ],
   "source": [
    "a = [2,3,\"python\"]\n",
    "def myfun(b):\n",
    "    a = [4, 5, 6, 7]\n",
    "print a\n",
    "myfun(a)\n",
    "print a"
   ]
  },
  {
   "cell_type": "code",
   "execution_count": 12,
   "metadata": {},
   "outputs": [
    {
     "name": "stdout",
     "output_type": "stream",
     "text": [
      "[2, 3, 'python']\n",
      "[4, 5, 6, 7]\n",
      "[2, 3, 'python']\n"
     ]
    }
   ],
   "source": [
    "a = [2,3,\"python\"]\n",
    "def myfun(b):\n",
    "    a = [4, 5, 6, 7]\n",
    "    print a\n",
    "print a\n",
    "myfun(a)\n",
    "print a"
   ]
  },
  {
   "cell_type": "code",
   "execution_count": 14,
   "metadata": {},
   "outputs": [
    {
     "name": "stdout",
     "output_type": "stream",
     "text": [
      "[2, 3, 'python']\n",
      "[2, 3, 'python', 5]\n",
      "[2, 3, 'python', 5]\n"
     ]
    }
   ],
   "source": [
    "a = [2,3,\"python\"]\n",
    "def myfun(a):\n",
    "    a.append(5)\n",
    "    print a\n",
    "print a\n",
    "myfun(a)\n",
    "print a"
   ]
  },
  {
   "cell_type": "code",
   "execution_count": 16,
   "metadata": {},
   "outputs": [
    {
     "name": "stdout",
     "output_type": "stream",
     "text": [
      "[2, 3, 'python']\n",
      "[4, 5, 6]\n",
      "[2, 3, 'python', 5]\n"
     ]
    }
   ],
   "source": [
    "a = [2,3,\"python\"]\n",
    "def myfun(a):\n",
    "    a.append(5)\n",
    "    a = [4,5,6]\n",
    "    print a\n",
    "print a\n",
    "myfun(a)\n",
    "print a"
   ]
  },
  {
   "cell_type": "code",
   "execution_count": 18,
   "metadata": {},
   "outputs": [
    {
     "name": "stderr",
     "output_type": "stream",
     "text": [
      "<ipython-input-18-fddd4bf6d48a>:4: SyntaxWarning: name 'a' is used prior to global declaration\n",
      "  global a\n"
     ]
    },
    {
     "ename": "SyntaxError",
     "evalue": "name 'a' is local and global (<ipython-input-18-fddd4bf6d48a>, line 2)",
     "output_type": "error",
     "traceback": [
      "\u001b[1;36m  File \u001b[1;32m\"<ipython-input-18-fddd4bf6d48a>\"\u001b[1;36m, line \u001b[1;32m2\u001b[0m\n\u001b[1;33m    def myfun(a):\u001b[0m\n\u001b[1;31mSyntaxError\u001b[0m\u001b[1;31m:\u001b[0m name 'a' is local and global\n"
     ]
    }
   ],
   "source": [
    "a = [2,3,\"python\"]\n",
    "def myfun(a):\n",
    "    a.append(5)\n",
    "    global a\n",
    "    a = [4,5,6]\n",
    "    print a\n",
    "print a\n",
    "myfun(a)\n",
    "print a"
   ]
  },
  {
   "cell_type": "code",
   "execution_count": 19,
   "metadata": {},
   "outputs": [
    {
     "name": "stdout",
     "output_type": "stream",
     "text": [
      "[2, 3, 'python']\n",
      "[4, 5, 6]\n",
      "[4, 5, 6]\n"
     ]
    }
   ],
   "source": [
    "a = [2,3,\"python\"]\n",
    "def myfun(b):\n",
    "    b.append(5)\n",
    "    global a\n",
    "    a = [4,5,6]\n",
    "    print a\n",
    "print a\n",
    "myfun(a)\n",
    "print a"
   ]
  },
  {
   "cell_type": "code",
   "execution_count": 20,
   "metadata": {},
   "outputs": [
    {
     "name": "stdout",
     "output_type": "stream",
     "text": [
      "[2, 3, 'python']\n",
      "[2, 3, 'python']\n",
      "[2, 3, 'python']\n"
     ]
    }
   ],
   "source": [
    "a = [2,3,\"python\"]\n",
    "def myfun(a):\n",
    "    print a\n",
    "print a\n",
    "myfun(a)\n",
    "print a"
   ]
  },
  {
   "cell_type": "code",
   "execution_count": 21,
   "metadata": {},
   "outputs": [
    {
     "name": "stdout",
     "output_type": "stream",
     "text": [
      "5\n"
     ]
    }
   ],
   "source": [
    "def myfun():\n",
    "    return 5\n",
    "b = myfun()\n",
    "print b"
   ]
  },
  {
   "cell_type": "code",
   "execution_count": 22,
   "metadata": {},
   "outputs": [
    {
     "name": "stdout",
     "output_type": "stream",
     "text": [
      "5\n"
     ]
    }
   ],
   "source": [
    "def myfun():\n",
    "    return 5\n",
    "print myfun()\n"
   ]
  },
  {
   "cell_type": "code",
   "execution_count": 23,
   "metadata": {},
   "outputs": [
    {
     "name": "stdout",
     "output_type": "stream",
     "text": [
      "None\n"
     ]
    }
   ],
   "source": [
    "def myfun():\n",
    "    pass\n",
    "print myfun()\n"
   ]
  },
  {
   "cell_type": "code",
   "execution_count": 24,
   "metadata": {},
   "outputs": [
    {
     "name": "stdout",
     "output_type": "stream",
     "text": [
      "5 6 7\n"
     ]
    }
   ],
   "source": [
    "def myfun():\n",
    "    return 5,6,7\n",
    "a,b,c = myfun()\n",
    "print a,b,c"
   ]
  },
  {
   "cell_type": "code",
   "execution_count": 25,
   "metadata": {},
   "outputs": [
    {
     "name": "stdout",
     "output_type": "stream",
     "text": [
      "(5, 6, 7)\n"
     ]
    }
   ],
   "source": [
    "def myfun():\n",
    "    return 5,6,7\n",
    "d = myfun()\n",
    "print d"
   ]
  },
  {
   "cell_type": "code",
   "execution_count": 26,
   "metadata": {},
   "outputs": [
    {
     "name": "stdout",
     "output_type": "stream",
     "text": [
      "(5, 6, 7)\n"
     ]
    }
   ],
   "source": [
    "def myfun():\n",
    "    return 5,6,7\n",
    "    print \"python\"\n",
    "d = myfun()\n",
    "print d"
   ]
  },
  {
   "cell_type": "code",
   "execution_count": 27,
   "metadata": {},
   "outputs": [
    {
     "name": "stdout",
     "output_type": "stream",
     "text": [
      "b is greater\n"
     ]
    }
   ],
   "source": [
    "def myfun(a,b,c):\n",
    "    if a>b and a>c:\n",
    "        print \"a is greater\"\n",
    "        return\n",
    "    if b>c:\n",
    "        print \"b is greater\"\n",
    "        return\n",
    "    print \"c is greater\"\n",
    "myfun(8,9,6)\n",
    "    "
   ]
  },
  {
   "cell_type": "code",
   "execution_count": 28,
   "metadata": {},
   "outputs": [
    {
     "name": "stdout",
     "output_type": "stream",
     "text": [
      "8\n"
     ]
    }
   ],
   "source": [
    "def myfun(a,b):\n",
    "    return a+b\n",
    "print myfun(3,5)"
   ]
  },
  {
   "cell_type": "code",
   "execution_count": 30,
   "metadata": {},
   "outputs": [
    {
     "ename": "TypeError",
     "evalue": "myfun() takes exactly 2 arguments (1 given)",
     "output_type": "error",
     "traceback": [
      "\u001b[1;31m---------------------------------------------------------------------------\u001b[0m",
      "\u001b[1;31mTypeError\u001b[0m                                 Traceback (most recent call last)",
      "\u001b[1;32m<ipython-input-30-55a3fe8848b8>\u001b[0m in \u001b[0;36m<module>\u001b[1;34m()\u001b[0m\n\u001b[0;32m      1\u001b[0m \u001b[1;32mdef\u001b[0m \u001b[0mmyfun\u001b[0m\u001b[1;33m(\u001b[0m\u001b[0ma\u001b[0m\u001b[1;33m,\u001b[0m\u001b[0mb\u001b[0m\u001b[1;33m)\u001b[0m\u001b[1;33m:\u001b[0m\u001b[1;33m\u001b[0m\u001b[0m\n\u001b[0;32m      2\u001b[0m     \u001b[1;32mreturn\u001b[0m \u001b[0ma\u001b[0m\u001b[1;33m+\u001b[0m\u001b[0mb\u001b[0m\u001b[1;33m\u001b[0m\u001b[0m\n\u001b[1;32m----> 3\u001b[1;33m \u001b[1;32mprint\u001b[0m \u001b[0mmyfun\u001b[0m\u001b[1;33m(\u001b[0m\u001b[1;36m3\u001b[0m\u001b[1;33m)\u001b[0m\u001b[1;33m\u001b[0m\u001b[0m\n\u001b[0m",
      "\u001b[1;31mTypeError\u001b[0m: myfun() takes exactly 2 arguments (1 given)"
     ]
    }
   ],
   "source": [
    "def myfun(a,b):\n",
    "    return a+b\n",
    "print myfun(3)"
   ]
  },
  {
   "cell_type": "code",
   "execution_count": 31,
   "metadata": {},
   "outputs": [
    {
     "name": "stdout",
     "output_type": "stream",
     "text": [
      "8\n"
     ]
    }
   ],
   "source": [
    "def myfun(a,b=10):\n",
    "    return a+b\n",
    "print myfun(3,5)"
   ]
  },
  {
   "cell_type": "code",
   "execution_count": 32,
   "metadata": {},
   "outputs": [
    {
     "name": "stdout",
     "output_type": "stream",
     "text": [
      "13\n"
     ]
    }
   ],
   "source": [
    "def myfun(a,b=10):\n",
    "    return a+b\n",
    "print myfun(3)"
   ]
  },
  {
   "cell_type": "code",
   "execution_count": 33,
   "metadata": {},
   "outputs": [
    {
     "name": "stdout",
     "output_type": "stream",
     "text": [
      "10\n",
      "15\n",
      "25\n"
     ]
    }
   ],
   "source": [
    "def myfun(a,b=10):\n",
    "    print a\n",
    "    print b\n",
    "    return a+b\n",
    "print myfun(b=15, a=10)"
   ]
  },
  {
   "cell_type": "code",
   "execution_count": 34,
   "metadata": {},
   "outputs": [
    {
     "ename": "SyntaxError",
     "evalue": "non-default argument follows default argument (<ipython-input-34-fd7510e1ccd8>, line 1)",
     "output_type": "error",
     "traceback": [
      "\u001b[1;36m  File \u001b[1;32m\"<ipython-input-34-fd7510e1ccd8>\"\u001b[1;36m, line \u001b[1;32m1\u001b[0m\n\u001b[1;33m    def myfun(a,b=10, c):\u001b[0m\n\u001b[1;31mSyntaxError\u001b[0m\u001b[1;31m:\u001b[0m non-default argument follows default argument\n"
     ]
    }
   ],
   "source": [
    "def myfun(a,b=10, c):\n",
    "    print a\n",
    "    print b\n",
    "    return a+b\n",
    "print myfun(3,8,10)"
   ]
  },
  {
   "cell_type": "code",
   "execution_count": 35,
   "metadata": {},
   "outputs": [
    {
     "name": "stdout",
     "output_type": "stream",
     "text": [
      "8\n",
      "10\n",
      "(11, 12, 13, 14)\n",
      "68\n"
     ]
    }
   ],
   "source": [
    "def myfun(a,b=10, *c):\n",
    "    print a\n",
    "    print b\n",
    "    print c\n",
    "    return a+b+sum(c)\n",
    "print myfun(8,10,11,12,13,14)"
   ]
  },
  {
   "cell_type": "code",
   "execution_count": 36,
   "metadata": {},
   "outputs": [
    {
     "ename": "SyntaxError",
     "evalue": "invalid syntax (<ipython-input-36-561715b0ea5b>, line 1)",
     "output_type": "error",
     "traceback": [
      "\u001b[1;36m  File \u001b[1;32m\"<ipython-input-36-561715b0ea5b>\"\u001b[1;36m, line \u001b[1;32m1\u001b[0m\n\u001b[1;33m    def myfun(a,*c, b= 10):\u001b[0m\n\u001b[1;37m                    ^\u001b[0m\n\u001b[1;31mSyntaxError\u001b[0m\u001b[1;31m:\u001b[0m invalid syntax\n"
     ]
    }
   ],
   "source": [
    "def myfun(a,*c, b= 10):\n",
    "    print a\n",
    "    print b\n",
    "    print c\n",
    "    return a+b+sum(c)\n",
    "print myfun(8,10,11,12,13,14)"
   ]
  },
  {
   "cell_type": "code",
   "execution_count": 37,
   "metadata": {},
   "outputs": [
    {
     "name": "stdout",
     "output_type": "stream",
     "text": [
      "(8, 10, 11, 12, 13, 14)\n",
      "68\n"
     ]
    }
   ],
   "source": [
    "def myfun(*c):\n",
    "    print c\n",
    "    return sum(c)\n",
    "print myfun(8,10,11,12,13,14)"
   ]
  },
  {
   "cell_type": "code",
   "execution_count": 40,
   "metadata": {},
   "outputs": [
    {
     "name": "stdout",
     "output_type": "stream",
     "text": [
      "14\n"
     ]
    }
   ],
   "source": [
    "def myfun(*c):\n",
    "    #print max(c)\n",
    "    return max(c)\n",
    "c = myfun(8,10,11,12,13,14)\n",
    "print c"
   ]
  },
  {
   "cell_type": "code",
   "execution_count": 41,
   "metadata": {
    "collapsed": true
   },
   "outputs": [],
   "source": [
    "#def execute_commands(hostname, username, password, *commands):\n",
    "#     #connect host\n",
    "#     for x in commands:\n",
    "#           execute(command)"
   ]
  },
  {
   "cell_type": "code",
   "execution_count": 42,
   "metadata": {},
   "outputs": [
    {
     "name": "stdout",
     "output_type": "stream",
     "text": [
      "{'username': 'username1', 'password': 'password1', 'hostname': '10.95.60.10', 'command': ('command1', 'command2')}\n",
      "None\n"
     ]
    }
   ],
   "source": [
    "def myfun(**c):\n",
    "    #print max(c)\n",
    "    print c\n",
    "    return \n",
    "c = myfun(hostname=\"10.95.60.10\", username=\"username1\", password=\"password1\", command=(\"command1\", \"command2\"))\n",
    "print c"
   ]
  },
  {
   "cell_type": "code",
   "execution_count": null,
   "metadata": {
    "collapsed": true
   },
   "outputs": [],
   "source": []
  }
 ],
 "metadata": {
  "kernelspec": {
   "display_name": "Python 2",
   "language": "python",
   "name": "python2"
  },
  "language_info": {
   "codemirror_mode": {
    "name": "ipython",
    "version": 2
   },
   "file_extension": ".py",
   "mimetype": "text/x-python",
   "name": "python",
   "nbconvert_exporter": "python",
   "pygments_lexer": "ipython2",
   "version": "2.7.13"
  }
 },
 "nbformat": 4,
 "nbformat_minor": 2
}
