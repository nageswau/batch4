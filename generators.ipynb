{
 "cells": [
  {
   "cell_type": "code",
   "execution_count": 1,
   "metadata": {},
   "outputs": [
    {
     "name": "stdout",
     "output_type": "stream",
     "text": [
      "<generator object myfun at 0x02692DF0>\n"
     ]
    }
   ],
   "source": [
    "def myfun(a):\n",
    "    for x in a:\n",
    "        yield x\n",
    "l = [4,5,6]\n",
    "o = myfun(l)\n",
    "print o"
   ]
  },
  {
   "cell_type": "code",
   "execution_count": 2,
   "metadata": {},
   "outputs": [
    {
     "name": "stdout",
     "output_type": "stream",
     "text": [
      "4\n"
     ]
    }
   ],
   "source": [
    "print o.next()"
   ]
  },
  {
   "cell_type": "code",
   "execution_count": 3,
   "metadata": {},
   "outputs": [
    {
     "name": "stdout",
     "output_type": "stream",
     "text": [
      "5\n"
     ]
    }
   ],
   "source": [
    "print o.next()"
   ]
  },
  {
   "cell_type": "code",
   "execution_count": 4,
   "metadata": {},
   "outputs": [
    {
     "name": "stdout",
     "output_type": "stream",
     "text": [
      "6\n"
     ]
    }
   ],
   "source": [
    "print o.next()"
   ]
  },
  {
   "cell_type": "code",
   "execution_count": 5,
   "metadata": {},
   "outputs": [
    {
     "ename": "StopIteration",
     "evalue": "",
     "output_type": "error",
     "traceback": [
      "\u001b[1;31m---------------------------------------------------------------------------\u001b[0m",
      "\u001b[1;31mStopIteration\u001b[0m                             Traceback (most recent call last)",
      "\u001b[1;32m<ipython-input-5-c7dd75b5b9f0>\u001b[0m in \u001b[0;36m<module>\u001b[1;34m()\u001b[0m\n\u001b[1;32m----> 1\u001b[1;33m \u001b[1;32mprint\u001b[0m \u001b[0mo\u001b[0m\u001b[1;33m.\u001b[0m\u001b[0mnext\u001b[0m\u001b[1;33m(\u001b[0m\u001b[1;33m)\u001b[0m\u001b[1;33m\u001b[0m\u001b[0m\n\u001b[0m",
      "\u001b[1;31mStopIteration\u001b[0m: "
     ]
    }
   ],
   "source": [
    "print o.next()"
   ]
  },
  {
   "cell_type": "code",
   "execution_count": 6,
   "metadata": {},
   "outputs": [
    {
     "name": "stdout",
     "output_type": "stream",
     "text": [
      "<generator object myfun at 0x039D0E18>\n",
      "4\n",
      "5\n",
      "6\n"
     ]
    }
   ],
   "source": [
    "def myfun(a):\n",
    "    for x in a:\n",
    "        yield x\n",
    "l = [4,5,6]\n",
    "o = myfun(l)\n",
    "print o\n",
    "for x in o:\n",
    "    print x"
   ]
  },
  {
   "cell_type": "code",
   "execution_count": 7,
   "metadata": {},
   "outputs": [
    {
     "name": "stdout",
     "output_type": "stream",
     "text": [
      "<function inner at 0x039C0AF0>\n"
     ]
    }
   ],
   "source": [
    "def myfun(func):\n",
    "    def inner():\n",
    "        return func()\n",
    "    return inner\n",
    "def mainfun():\n",
    "    return \"I am in main\"\n",
    "o = myfun(mainfun)\n",
    "print o"
   ]
  },
  {
   "cell_type": "code",
   "execution_count": 8,
   "metadata": {},
   "outputs": [
    {
     "name": "stdout",
     "output_type": "stream",
     "text": [
      "I am in main\n"
     ]
    }
   ],
   "source": [
    "print o()"
   ]
  },
  {
   "cell_type": "code",
   "execution_count": 9,
   "metadata": {},
   "outputs": [
    {
     "name": "stdout",
     "output_type": "stream",
     "text": [
      "I am in main\n"
     ]
    }
   ],
   "source": [
    "def myfun(func):\n",
    "    def inner():\n",
    "        return func()\n",
    "    return inner\n",
    "@myfun\n",
    "def mainfun():\n",
    "    return \"I am in main\"\n",
    "print mainfun()"
   ]
  },
  {
   "cell_type": "code",
   "execution_count": 18,
   "metadata": {},
   "outputs": [
    {
     "name": "stdout",
     "output_type": "stream",
     "text": [
      "__main__.Myclass\n",
      "<__main__.Myclass instance at 0x03A66BC0>\n"
     ]
    }
   ],
   "source": [
    "class Myclass():\n",
    "    a = 15\n",
    "    @classmethod\n",
    "    def mymet(cls, a):\n",
    "        print cls\n",
    "        cls.a = a\n",
    "        return \"mymet\"\n",
    "    def myfun(self):\n",
    "        print self\n",
    "        \n",
    "o = Myclass()\n",
    "c = o.mymet(5)\n",
    "o.myfun()\n",
    "#print c\n",
    "Myclass.mymet(5)\n"
   ]
  },
  {
   "cell_type": "code",
   "execution_count": 15,
   "metadata": {},
   "outputs": [
    {
     "name": "stdout",
     "output_type": "stream",
     "text": [
      "5\n",
      "15\n",
      "10\n"
     ]
    }
   ],
   "source": [
    "o.a = 15\n",
    "print Myclass.a\n",
    "Myclass.a = 10\n",
    "print o.a\n",
    "print Myclass.a"
   ]
  },
  {
   "cell_type": "code",
   "execution_count": 19,
   "metadata": {},
   "outputs": [
    {
     "name": "stdout",
     "output_type": "stream",
     "text": [
      "__main__.Myclass\n",
      "mymet\n"
     ]
    },
    {
     "ename": "TypeError",
     "evalue": "unbound method myfun() must be called with Myclass instance as first argument (got nothing instead)",
     "output_type": "error",
     "traceback": [
      "\u001b[1;31m---------------------------------------------------------------------------\u001b[0m",
      "\u001b[1;31mTypeError\u001b[0m                                 Traceback (most recent call last)",
      "\u001b[1;32m<ipython-input-19-4ead4052f072>\u001b[0m in \u001b[0;36m<module>\u001b[1;34m()\u001b[0m\n\u001b[0;32m      1\u001b[0m \u001b[1;32mprint\u001b[0m \u001b[0mMyclass\u001b[0m\u001b[1;33m.\u001b[0m\u001b[0mmymet\u001b[0m\u001b[1;33m(\u001b[0m\u001b[1;36m5\u001b[0m\u001b[1;33m)\u001b[0m\u001b[1;33m\u001b[0m\u001b[0m\n\u001b[1;32m----> 2\u001b[1;33m \u001b[0mMyclass\u001b[0m\u001b[1;33m.\u001b[0m\u001b[0mmyfun\u001b[0m\u001b[1;33m(\u001b[0m\u001b[1;33m)\u001b[0m\u001b[1;33m\u001b[0m\u001b[0m\n\u001b[0m",
      "\u001b[1;31mTypeError\u001b[0m: unbound method myfun() must be called with Myclass instance as first argument (got nothing instead)"
     ]
    }
   ],
   "source": [
    "print Myclass.mymet(5)\n",
    "Myclass.myfun()"
   ]
  },
  {
   "cell_type": "code",
   "execution_count": 20,
   "metadata": {},
   "outputs": [
    {
     "name": "stdout",
     "output_type": "stream",
     "text": [
      "__main__.Myclass\n",
      "__main__.Myclass\n",
      "mymet\n",
      "<__main__.Myclass instance at 0x03A66F30>\n",
      "__main__.Myclass\n",
      "mymet\n",
      "<__main__.Myclass instance at 0x03A66F30>\n"
     ]
    }
   ],
   "source": [
    "class Myclass():\n",
    "    a = 15\n",
    "    @classmethod\n",
    "    def mymet(cls, a):\n",
    "        print cls\n",
    "        cls.a = a\n",
    "        return \"mymet\"\n",
    "    def myfun(self):\n",
    "        print self.mymet(10)\n",
    "        print self\n",
    "        \n",
    "o = Myclass()\n",
    "c = o.mymet(5)\n",
    "o.myfun()\n",
    "#print c\n",
    "o.myfun()\n"
   ]
  },
  {
   "cell_type": "code",
   "execution_count": 22,
   "metadata": {},
   "outputs": [
    {
     "name": "stdout",
     "output_type": "stream",
     "text": [
      " in class 8\n",
      "in object 14\n"
     ]
    }
   ],
   "source": [
    "class Myclass():\n",
    "    a = 15\n",
    "    @classmethod\n",
    "    def mymet(cls, a):\n",
    "        print \"in class\", cls.myfun1(3, 5)\n",
    "    @staticmethod\n",
    "    def myfun1(a, b):\n",
    "        return a+b\n",
    "    def myfun(self):\n",
    "        print \"in object\", self.myfun1(8, 6)\n",
    "o = Myclass()\n",
    "o.mymet(5)\n",
    "o.myfun()\n"
   ]
  },
  {
   "cell_type": "code",
   "execution_count": null,
   "metadata": {
    "collapsed": true
   },
   "outputs": [],
   "source": []
  }
 ],
 "metadata": {
  "kernelspec": {
   "display_name": "Python 2",
   "language": "python",
   "name": "python2"
  },
  "language_info": {
   "codemirror_mode": {
    "name": "ipython",
    "version": 2
   },
   "file_extension": ".py",
   "mimetype": "text/x-python",
   "name": "python",
   "nbconvert_exporter": "python",
   "pygments_lexer": "ipython2",
   "version": "2.7.13"
  }
 },
 "nbformat": 4,
 "nbformat_minor": 2
}
