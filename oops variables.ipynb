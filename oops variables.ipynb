{
 "cells": [
  {
   "cell_type": "code",
   "execution_count": 1,
   "metadata": {
    "collapsed": true
   },
   "outputs": [],
   "source": [
    "class Myclass():\n",
    "    a = 5\n",
    "    b = 10\n",
    "    def __init__(self, c, d):\n",
    "        self.c = c\n",
    "        self.d = d\n",
    "        print self.c\n"
   ]
  },
  {
   "cell_type": "code",
   "execution_count": 3,
   "metadata": {
    "collapsed": true
   },
   "outputs": [],
   "source": [
    "o1 = Myclass(20,30)"
   ]
  },
  {
   "cell_type": "code",
   "execution_count": 4,
   "metadata": {},
   "outputs": [
    {
     "name": "stdout",
     "output_type": "stream",
     "text": [
      "5 10 20 30\n"
     ]
    }
   ],
   "source": [
    "print o1.a, o1.b, o1.c, o1.d"
   ]
  },
  {
   "cell_type": "code",
   "execution_count": 5,
   "metadata": {},
   "outputs": [
    {
     "name": "stdout",
     "output_type": "stream",
     "text": [
      "5 10\n"
     ]
    }
   ],
   "source": [
    "print Myclass.a, Myclass.b"
   ]
  },
  {
   "cell_type": "code",
   "execution_count": 6,
   "metadata": {},
   "outputs": [
    {
     "ename": "AttributeError",
     "evalue": "class Myclass has no attribute 'c'",
     "output_type": "error",
     "traceback": [
      "\u001b[1;31m---------------------------------------------------------------------------\u001b[0m",
      "\u001b[1;31mAttributeError\u001b[0m                            Traceback (most recent call last)",
      "\u001b[1;32m<ipython-input-6-df13eef25ca0>\u001b[0m in \u001b[0;36m<module>\u001b[1;34m()\u001b[0m\n\u001b[1;32m----> 1\u001b[1;33m \u001b[1;32mprint\u001b[0m \u001b[0mMyclass\u001b[0m\u001b[1;33m.\u001b[0m\u001b[0mc\u001b[0m\u001b[1;33m,\u001b[0m \u001b[0mMyclass\u001b[0m\u001b[1;33m.\u001b[0m\u001b[0md\u001b[0m\u001b[1;33m\u001b[0m\u001b[0m\n\u001b[0m",
      "\u001b[1;31mAttributeError\u001b[0m: class Myclass has no attribute 'c'"
     ]
    }
   ],
   "source": [
    "print Myclass.c, Myclass.d"
   ]
  },
  {
   "cell_type": "code",
   "execution_count": 7,
   "metadata": {},
   "outputs": [
    {
     "name": "stdout",
     "output_type": "stream",
     "text": [
      "15 10 20 30\n"
     ]
    }
   ],
   "source": [
    "Myclass.a = 15\n",
    "print o1.a, o1.b, o1.c, o1.d"
   ]
  },
  {
   "cell_type": "code",
   "execution_count": 8,
   "metadata": {},
   "outputs": [
    {
     "name": "stdout",
     "output_type": "stream",
     "text": [
      "15 10 40 50\n"
     ]
    }
   ],
   "source": [
    "o2 = Myclass(40, 50)\n",
    "print o2.a, o2.b, o2.c, o2.d"
   ]
  },
  {
   "cell_type": "code",
   "execution_count": 9,
   "metadata": {},
   "outputs": [
    {
     "name": "stdout",
     "output_type": "stream",
     "text": [
      "15 10 100 30\n",
      "15 10 40 50\n"
     ]
    }
   ],
   "source": [
    "o1.c = 100\n",
    "print o1.a, o1.b, o1.c, o1.d\n",
    "print o2.a, o2.b, o2.c, o2.d"
   ]
  },
  {
   "cell_type": "code",
   "execution_count": 10,
   "metadata": {},
   "outputs": [
    {
     "name": "stdout",
     "output_type": "stream",
     "text": [
      "200 10 100 30\n",
      "15 10 40 50\n"
     ]
    }
   ],
   "source": [
    "o1.a = 200\n",
    "print o1.a, o1.b, o1.c, o1.d\n",
    "print o2.a, o2.b, o2.c, o2.d"
   ]
  },
  {
   "cell_type": "code",
   "execution_count": 14,
   "metadata": {},
   "outputs": [
    {
     "name": "stdout",
     "output_type": "stream",
     "text": [
      "200 10 100 30\n",
      "20 10 40 50\n"
     ]
    }
   ],
   "source": [
    "Myclass.a = 20\n",
    "print o1.a, o1.b, o1.c, o1.d\n",
    "print o2.a, o2.b, o2.c, o2.d"
   ]
  },
  {
   "cell_type": "code",
   "execution_count": 15,
   "metadata": {},
   "outputs": [
    {
     "name": "stdout",
     "output_type": "stream",
     "text": [
      "20\n"
     ]
    }
   ],
   "source": [
    "print Myclass.a"
   ]
  },
  {
   "cell_type": "code",
   "execution_count": 1,
   "metadata": {
    "collapsed": true
   },
   "outputs": [],
   "source": [
    "class Myclass():\n",
    "    a = 5\n",
    "    b = 10\n",
    "    def __init__(self, c, d):\n",
    "        self.c = c\n",
    "        self.d = d\n",
    "        print self.a \n",
    "        print Myclass.a\n"
   ]
  },
  {
   "cell_type": "code",
   "execution_count": 2,
   "metadata": {},
   "outputs": [
    {
     "name": "stdout",
     "output_type": "stream",
     "text": [
      "5\n",
      "5\n"
     ]
    }
   ],
   "source": [
    "o = Myclass(10, 20)"
   ]
  },
  {
   "cell_type": "code",
   "execution_count": 6,
   "metadata": {},
   "outputs": [
    {
     "name": "stdout",
     "output_type": "stream",
     "text": [
      "I am in my fun 1\n",
      "I am in my fun\n"
     ]
    }
   ],
   "source": [
    "class Myclass():\n",
    "    def myfun(self):\n",
    "        print \"I am in my fun\"\n",
    "    \n",
    "    def Myfun1(self):\n",
    "        print \"I am in my fun 1\"\n",
    "        #myfun(self)\n",
    "        self.myfun()\n",
    "o = Myclass()\n",
    "o.Myfun1()"
   ]
  },
  {
   "cell_type": "code",
   "execution_count": null,
   "metadata": {
    "collapsed": true
   },
   "outputs": [],
   "source": []
  }
 ],
 "metadata": {
  "kernelspec": {
   "display_name": "Python 2",
   "language": "python",
   "name": "python2"
  },
  "language_info": {
   "codemirror_mode": {
    "name": "ipython",
    "version": 2
   },
   "file_extension": ".py",
   "mimetype": "text/x-python",
   "name": "python",
   "nbconvert_exporter": "python",
   "pygments_lexer": "ipython2",
   "version": "2.7.13"
  }
 },
 "nbformat": 4,
 "nbformat_minor": 2
}
