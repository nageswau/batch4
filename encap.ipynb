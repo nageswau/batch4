{
 "cells": [
  {
   "cell_type": "code",
   "execution_count": 3,
   "metadata": {},
   "outputs": [
    {
     "name": "stdout",
     "output_type": "stream",
     "text": [
      "1. To list available books in library\n",
      "2. to list the books taken by customer\n",
      "3. To submit a book\n",
      "4. to borrow a book\n"
     ]
    }
   ],
   "source": [
    "class Library():\n",
    "    def __init__(self, books):\n",
    "        self.avl_books = books\n",
    "    \n",
    "    def remove_book(self, book):\n",
    "        if book in self.avl_books:\n",
    "            self.avl_books.remove(book)\n",
    "        else:\n",
    "            return \"entered book is not available\"\n",
    "    def available_books(self):\n",
    "        return self.avl_books\n",
    "    \n",
    "    def add_book(self, book):\n",
    "        if book in self.avl_books:\n",
    "            return \"book already exists\"\n",
    "        self.avl_books.add(book)\n",
    "class Customer():\n",
    "    def __init__(self):\n",
    "        self.exists_book = []\n",
    "    def submit_book(self):\n",
    "        if not self.exists_book:\n",
    "            print \"you haven't taken any books\"\n",
    "        else:\n",
    "            print '\\n'.join(self.exists_book)\n",
    "            book = raw_input(\"enter the book to be submitted from above list\")\n",
    "            self.exists_book.remove(book)\n",
    "            return \"book: {0}\".format(book)\n",
    "    \n",
    "    def borrow_book(self, book):\n",
    "        self.exists_book.append(book)\n",
    "        return self.exists_book\n",
    "    \n",
    "l = Library(['python', 'Django'])\n",
    "c = Customer()\n",
    "print \"1. To list available books in library\\\n",
    "\\n2. to list the books taken by customer\\\n",
    "\\n3. To submit a book\\\n",
    "\\n4. to borrow a book\"\n",
    "        \n",
    "        "
   ]
  },
  {
   "cell_type": "code",
   "execution_count": 4,
   "metadata": {},
   "outputs": [
    {
     "name": "stdout",
     "output_type": "stream",
     "text": [
      "enter the numbers from above to perform respective action1\n",
      "python\n",
      "Django\n"
     ]
    }
   ],
   "source": [
    "option= int(raw_input(\"enter the numbers from above to perform respective action\"))\n",
    "if option is 1:\n",
    "    print \"\\n\".join(l.available_books())\n",
    "elif option is 2:\n",
    "    print c.exists_book\n",
    "elif option is 3:\n",
    "    pass\n",
    "elif option is 4:\n",
    "    pass\n",
    "else:\n",
    "    print \"you have select an invalid option\""
   ]
  },
  {
   "cell_type": "code",
   "execution_count": 25,
   "metadata": {},
   "outputs": [
    {
     "name": "stdout",
     "output_type": "stream",
     "text": [
      "6\n"
     ]
    }
   ],
   "source": [
    "class myclass():\n",
    "    def __init__(self,a, b):\n",
    "        self.__a = a\n",
    "        self.b = b\n",
    "        self.__personal = \"my personal\"\n",
    "    def getA(self, user, password):\n",
    "        if user == 'nag' and password == 'nag':\n",
    "            return self.__a\n",
    "    def __login(self, user, password):\n",
    "        if user == 'nag' and password == 'nag':\n",
    "            return True\n",
    "        return False\n",
    "    \n",
    "    def getPersonal(self, user, password):\n",
    "        if self.__login(user, password):\n",
    "            return self.__personal, self.__a\n",
    "        return \"authentication failed\"\n",
    "    \n",
    "o = myclass(5, 6)\n",
    "print o.b"
   ]
  },
  {
   "cell_type": "code",
   "execution_count": 26,
   "metadata": {},
   "outputs": [
    {
     "ename": "AttributeError",
     "evalue": "myclass instance has no attribute '__a'",
     "output_type": "error",
     "traceback": [
      "\u001b[1;31m---------------------------------------------------------------------------\u001b[0m",
      "\u001b[1;31mAttributeError\u001b[0m                            Traceback (most recent call last)",
      "\u001b[1;32m<ipython-input-26-c5212eebd4bb>\u001b[0m in \u001b[0;36m<module>\u001b[1;34m()\u001b[0m\n\u001b[1;32m----> 1\u001b[1;33m \u001b[1;32mprint\u001b[0m \u001b[0mo\u001b[0m\u001b[1;33m.\u001b[0m\u001b[0m__a\u001b[0m\u001b[1;33m\u001b[0m\u001b[0m\n\u001b[0m",
      "\u001b[1;31mAttributeError\u001b[0m: myclass instance has no attribute '__a'"
     ]
    }
   ],
   "source": [
    "print o.__a"
   ]
  },
  {
   "cell_type": "code",
   "execution_count": 27,
   "metadata": {},
   "outputs": [
    {
     "name": "stdout",
     "output_type": "stream",
     "text": [
      "5\n"
     ]
    }
   ],
   "source": [
    "print o.getA('nag', 'nag')"
   ]
  },
  {
   "cell_type": "code",
   "execution_count": 28,
   "metadata": {},
   "outputs": [
    {
     "ename": "AttributeError",
     "evalue": "myclass instance has no attribute '__login'",
     "output_type": "error",
     "traceback": [
      "\u001b[1;31m---------------------------------------------------------------------------\u001b[0m",
      "\u001b[1;31mAttributeError\u001b[0m                            Traceback (most recent call last)",
      "\u001b[1;32m<ipython-input-28-ad17c99eae08>\u001b[0m in \u001b[0;36m<module>\u001b[1;34m()\u001b[0m\n\u001b[1;32m----> 1\u001b[1;33m \u001b[1;32mprint\u001b[0m \u001b[0mo\u001b[0m\u001b[1;33m.\u001b[0m\u001b[0m__login\u001b[0m\u001b[1;33m(\u001b[0m\u001b[1;34m'nag'\u001b[0m\u001b[1;33m,\u001b[0m \u001b[1;34m'nag'\u001b[0m\u001b[1;33m)\u001b[0m\u001b[1;33m\u001b[0m\u001b[0m\n\u001b[0m",
      "\u001b[1;31mAttributeError\u001b[0m: myclass instance has no attribute '__login'"
     ]
    }
   ],
   "source": [
    "print o.__login('nag', 'nag')"
   ]
  },
  {
   "cell_type": "code",
   "execution_count": 29,
   "metadata": {},
   "outputs": [
    {
     "name": "stdout",
     "output_type": "stream",
     "text": [
      "('my personal', 5)\n"
     ]
    }
   ],
   "source": [
    "print o.getPersonal('nag', 'nag')"
   ]
  },
  {
   "cell_type": "code",
   "execution_count": 24,
   "metadata": {},
   "outputs": [
    {
     "name": "stdout",
     "output_type": "stream",
     "text": [
      "['__doc__', '__init__', '__module__', '_myclass__a', '_myclass__login', '_myclass__personal', 'b', 'getA', 'getPersonal']\n"
     ]
    }
   ],
   "source": [
    "print dir(o)"
   ]
  },
  {
   "cell_type": "code",
   "execution_count": null,
   "metadata": {
    "collapsed": true
   },
   "outputs": [],
   "source": []
  }
 ],
 "metadata": {
  "kernelspec": {
   "display_name": "Python 2",
   "language": "python",
   "name": "python2"
  },
  "language_info": {
   "codemirror_mode": {
    "name": "ipython",
    "version": 2
   },
   "file_extension": ".py",
   "mimetype": "text/x-python",
   "name": "python",
   "nbconvert_exporter": "python",
   "pygments_lexer": "ipython2",
   "version": "2.7.13"
  }
 },
 "nbformat": 4,
 "nbformat_minor": 2
}
