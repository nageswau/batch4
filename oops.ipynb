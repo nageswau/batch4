{
 "cells": [
  {
   "cell_type": "code",
   "execution_count": 1,
   "metadata": {
    "collapsed": true
   },
   "outputs": [],
   "source": [
    "#class <claaName>():\n",
    "#  <defining the actions>\n",
    "\n",
    "#<var> = className()"
   ]
  },
  {
   "cell_type": "code",
   "execution_count": 2,
   "metadata": {},
   "outputs": [
    {
     "name": "stdout",
     "output_type": "stream",
     "text": [
      "<__main__.Myclass instance at 0x03944E68>\n",
      "<__main__.Myclass instance at 0x03944EE0>\n"
     ]
    }
   ],
   "source": [
    "class Myclass():\n",
    "    def myfun(self):\n",
    "        print \"I am in fun\"\n",
    "\n",
    "o1 = Myclass()\n",
    "print o1\n",
    "o2 = Myclass()\n",
    "print o2"
   ]
  },
  {
   "cell_type": "code",
   "execution_count": 3,
   "metadata": {},
   "outputs": [
    {
     "name": "stdout",
     "output_type": "stream",
     "text": [
      "I am in fun\n",
      "None\n"
     ]
    }
   ],
   "source": [
    "print o1.myfun()"
   ]
  },
  {
   "cell_type": "code",
   "execution_count": 1,
   "metadata": {},
   "outputs": [
    {
     "ename": "AttributeError",
     "evalue": "Myclass instance has no attribute 'c'",
     "output_type": "error",
     "traceback": [
      "\u001b[1;31m---------------------------------------------------------------------------\u001b[0m",
      "\u001b[1;31mAttributeError\u001b[0m                            Traceback (most recent call last)",
      "\u001b[1;32m<ipython-input-1-d347546a1fdf>\u001b[0m in \u001b[0;36m<module>\u001b[1;34m()\u001b[0m\n\u001b[0;32m     12\u001b[0m \u001b[0mo1\u001b[0m \u001b[1;33m=\u001b[0m \u001b[0mMyclass\u001b[0m\u001b[1;33m(\u001b[0m\u001b[1;36m7\u001b[0m\u001b[1;33m,\u001b[0m \u001b[1;36m12\u001b[0m\u001b[1;33m)\u001b[0m\u001b[1;33m\u001b[0m\u001b[0m\n\u001b[0;32m     13\u001b[0m \u001b[0mo2\u001b[0m \u001b[1;33m=\u001b[0m \u001b[0mMyclass\u001b[0m\u001b[1;33m(\u001b[0m\u001b[1;36m11\u001b[0m\u001b[1;33m,\u001b[0m\u001b[1;36m12\u001b[0m\u001b[1;33m)\u001b[0m\u001b[1;33m\u001b[0m\u001b[0m\n\u001b[1;32m---> 14\u001b[1;33m \u001b[1;32mprint\u001b[0m \u001b[0mo1\u001b[0m\u001b[1;33m.\u001b[0m\u001b[0mc\u001b[0m\u001b[1;33m\u001b[0m\u001b[0m\n\u001b[0m\u001b[0;32m     15\u001b[0m \u001b[1;32mprint\u001b[0m \u001b[0mo2\u001b[0m\u001b[1;33m.\u001b[0m\u001b[0mc\u001b[0m\u001b[1;33m\u001b[0m\u001b[0m\n",
      "\u001b[1;31mAttributeError\u001b[0m: Myclass instance has no attribute 'c'"
     ]
    }
   ],
   "source": [
    "#attributes   variables\n",
    "#instance variables and class variables\n",
    "class Myclass():\n",
    "    a = 5\n",
    "    b = 10\n",
    "    def __init__(abc, c, d):\n",
    "        abc.h = c\n",
    "        abc.f = d\n",
    "        e = 10\n",
    "    def myfun(self):\n",
    "        print e\n",
    "o1 = Myclass(7, 12)\n",
    "o2 = Myclass(11,12)\n",
    "print o1.c\n",
    "print o2.c\n"
   ]
  },
  {
   "cell_type": "code",
   "execution_count": 6,
   "metadata": {},
   "outputs": [
    {
     "name": "stdout",
     "output_type": "stream",
     "text": [
      "7\n",
      "11\n"
     ]
    }
   ],
   "source": [
    "#attributes   variables\n",
    "#instance variables and class variables\n",
    "class Myclass():\n",
    "    a = 5\n",
    "    b = 10\n",
    "    def __init__(abc, c, d):\n",
    "        abc.c = c\n",
    "        abc.d = d\n",
    "        e = 10\n",
    "    def myfun(self):\n",
    "        print e\n",
    "o1 = Myclass(7, 8)\n",
    "o2 = Myclass(11,12)\n",
    "print o1.c\n",
    "print o2.c\n"
   ]
  },
  {
   "cell_type": "code",
   "execution_count": null,
   "metadata": {
    "collapsed": true
   },
   "outputs": [],
   "source": []
  }
 ],
 "metadata": {
  "kernelspec": {
   "display_name": "Python 2",
   "language": "python",
   "name": "python2"
  },
  "language_info": {
   "codemirror_mode": {
    "name": "ipython",
    "version": 2
   },
   "file_extension": ".py",
   "mimetype": "text/x-python",
   "name": "python",
   "nbconvert_exporter": "python",
   "pygments_lexer": "ipython2",
   "version": "2.7.13"
  }
 },
 "nbformat": 4,
 "nbformat_minor": 2
}
